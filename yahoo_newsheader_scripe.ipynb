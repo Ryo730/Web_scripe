{
 "cells": [
  {
   "cell_type": "code",
   "execution_count": 2,
   "metadata": {},
   "outputs": [],
   "source": [
    "import requests"
   ]
  },
  {
   "cell_type": "code",
   "execution_count": 3,
   "metadata": {},
   "outputs": [],
   "source": [
    "r=requests.get('http://news.yahoo.co.jp')"
   ]
  },
  {
   "cell_type": "code",
   "execution_count": 8,
   "metadata": {},
   "outputs": [
    {
     "name": "stdout",
     "output_type": "stream",
     "text": [
      "{'Cache-Control': 'private, no-cache, no-store, must-revalidate', 'Content-Encoding': 'gzip', 'Content-Type': 'text/html;charset=UTF-8', 'Date': 'Fri, 17 Apr 2020 13:47:42 GMT', 'Set-Cookie': 'B=9at739tf9jcru&b=3&s=lt; expires=Mon, 18-Apr-2022 13:47:42 GMT; path=/; domain=.yahoo.co.jp, XB=9at739tf9jcru&b=3&s=lt; expires=Mon, 18-Apr-2022 13:47:42 GMT; path=/; domain=.yahoo.co.jp; secure; samesite=none', 'Vary': 'Accept-Encoding', 'X-Content-Type-Options': 'nosniff', 'X-Download-Options': 'noopen', 'X-Frame-Options': 'DENY', 'X-Vcap-Request-Id': '2c639c14-7563-4db4-5739-792881971564', 'X-Xss-Protection': '1; mode=block', 'Age': '0', 'Server': 'ATS', 'Transfer-Encoding': 'chunked', 'Connection': 'keep-alive', 'Via': 'http/1.1 edge2850.img.kth.yahoo.co.jp (ApacheTrafficServer [c sSf ])'}\n",
      "--------\n",
      "UTF-8\n"
     ]
    }
   ],
   "source": [
    "print(r.headers)\n",
    "print(\"--------\")\n",
    "print(r.encoding)"
   ]
  },
  {
   "cell_type": "code",
   "execution_count": 10,
   "metadata": {},
   "outputs": [],
   "source": [
    "from bs4 import BeautifulSoup"
   ]
  },
  {
   "cell_type": "code",
   "execution_count": 11,
   "metadata": {},
   "outputs": [
    {
     "name": "stdout",
     "output_type": "stream",
     "text": [
      "[<h1>sayhell</h1>, <h1>saysay</h1>]\n"
     ]
    }
   ],
   "source": [
    "html=\"<h1>sayhell</h1>,<h1>saysay</h1>,<h2>say</h2>\"\n",
    "\n",
    "soup=BeautifulSoup(html,\"html.parser\")\n",
    "\n",
    "print(soup.select(\"h1\"))"
   ]
  },
  {
   "cell_type": "code",
   "execution_count": 13,
   "metadata": {},
   "outputs": [
    {
     "name": "stdout",
     "output_type": "stream",
     "text": [
      "Koki, テニスウェア姿を披露　前髪アップでスポーティなスタイルクランクイン！東国原英夫「軽率と言わざるを得ない」　コロナ感染した石田純一の行動にコメントエンタメOVO長谷川京子、キャミソールで“肉体美”披露　抜群のプロポーションでファンを魅了「美しくて癒されました」ENCOUNT夢見るぅ、撮影衣装がキワどく「ポロリ連発でご迷惑を（笑）」SmartFLASH「あなたを好きだから不倫でもいい」と言う人ほど危険！All About【全文】ク・ジソン、「試験管施術で出産…婚前妊娠ではない」釈明WoW!Korea中村倫也、実は「美人」が苦手？　本田翼を前に挙動不審...ファン「かわいい」J-CASTニュースＹＯＳＨＩＫＩ　コロナ下のＬＡライフは「作曲を頑張っています」「基本的にはデリバリー」デイリースポーツ隔離、見殺し、銃殺…「北朝鮮・コロナ感染者ゼロ」の真相は？クーリエ・ジャポンホリエモン「医療崩壊が起きてるのはＩＣＵで、ほとんどの病院は経営危機になっている」スポーツ報知井上尚弥「僕には守る家族や仲間がいます」　マスクしないで握手求めるファンにツイッターで理解求めるスポーツ報知浜崎あゆみ、晴れやかな笑顔のステージ写真＆ファンへ温かいメッセージを公開E-TALENTBANK＜梨花＞ボディーラインあらわなヨガウエア姿を公開　「峰不二子みたい」と絶賛の声も毎日キレイ体重140キロから68.5キロまでダイエットしたイケメンに「本気を出せば人はここまで変わるのか」と驚きの声　ご本人を取材ねとらぼ新型コロナ禍で『大分旅行』『花見写真』…安倍昭恵夫人のインスタグラムが炎上中中日スポーツ超簡単！　体を柔らかくする「はいはいポーズ」ウィメンズヘルスやっぱりマスク姿もファビュラス！　叶美香、姉・恭子の“新型コロナ対策”公開で「インドの女王様みたい」「カッコイイ」の声ねとらぼ有吉弘行、きっかけは“間違ったツッコミ”　おでこにできた「できもの」摘出を報告「スッキリですね」ENCOUNT浅田真央さんが「恋しいわ！」　ロシア美女の“懐かし3S”に反響「このチーム最高」THE ANSWER藤森慎吾「ユッキーナを抱きたい」と言って先輩に怒られた過去SmartFLASHテレビにリモート出演ってどうやるの？…八木早希アナが自身のスマホ画面を公開スポーツ報知＜安達祐実＞茶髪姿で「いよいよオンエアだぁ」　主演連ドラきょうスタート　「配信も…」と返信でファン感激毎日キレイ第1子妊娠中のラブリ、外出自粛続きストレス「早く外でデートしたいぞー」夫との2ショット投稿スポニチアネックス母・三田寛子がリモート出演で「そんなことできるのか」息子・福之助の心配的中デイリースポーツ男性不妊の原因の4割にも。「精索静脈瘤」手術体験談ESSE-onlineコロナ感染テレ朝・富川アナ報告遅れの理由　以前から「アナウンス部に居場所ない」東スポWeb癌だけじゃない！ピロリ菌が引き起こす病気All About東出会見「どちらが好き？」の模範回答はコレ！前園氏の答えを上沼恵美子が絶賛スポニチアネックスC・ロナウド 部屋着だけで35万円 !?...私生活でも妥協許さずSPORT.es【“相席屋”の実態に迫る！】本当に出会えるの？ 注意すべきことって？with onlineマスクの肌荒れ注意！田中美保「細胞の水分が失われやすい」医師から聞いた対策明かすスポニチアネックス女優チョン・ウンチェ、過去に歌手チョン・ジュンイルと「不倫関係」だったと報道… 13年には加瀬亮ともスクープWoW!Korea「痩せやすく、太りづらい体づくり」のために摂るべきビタミンウィメンズヘルス【ViVi保健室】モデルさんみたいなキレイな歯並びに憧れます！でも矯正って高いんですよね……NET ViViワンオク・Ｔａｋａ　飲食店救済のマル秘リスト公開へ「昔、働いてた店がつぶれちゃうかもしれない」東スポWeb膝枕で耳かきを…長嶋一茂　妻に“リモートおねだり”「女房にそんなことを…」スポニチアネックス“お笑い第３世代”に迫るコロナ禍　浜田雅功の息子がＰＣＲ検査、内村光良の妻・徳永有美アナは自宅待機夕刊フジ＜田中みな実＞鋭い指摘に「私、チョロいんです」　“あざと男子”千葉雄大に「ヒリヒリしました…」毎日キレイ内田理央、お風呂前にすっぴんから“5分間だけメイク” 「マジで美しすぎ」と反響クランクイン！夫を浮気に追いやる家庭の危ないルール!?All About「クレヨンしんちゃん」BS朝日で藤原啓治さん追悼テロップ「ご冥福を心からお祈り」野原ひろし役24年間スポニチアネックス笠井信輔アナ、抗がん剤終了も…「白血球の数値がぐんと下がって『行動制限』『食事制限』となりました」スポーツ報知\n"
     ]
    }
   ],
   "source": [
    "r=requests.get(\"https://news.yahoo.co.jp/\")\n",
    "soup=BeautifulSoup(r.content,\"html.parser\")\n",
    "#ニュース一覧を抽出\n",
    "print(soup.find(\"ul\",\"newsFeed_list\").text)"
   ]
  },
  {
   "cell_type": "code",
   "execution_count": null,
   "metadata": {},
   "outputs": [],
   "source": []
  }
 ],
 "metadata": {
  "kernelspec": {
   "display_name": "Python 3",
   "language": "python",
   "name": "python3"
  },
  "language_info": {
   "codemirror_mode": {
    "name": "ipython",
    "version": 3
   },
   "file_extension": ".py",
   "mimetype": "text/x-python",
   "name": "python",
   "nbconvert_exporter": "python",
   "pygments_lexer": "ipython3",
   "version": "3.7.6"
  }
 },
 "nbformat": 4,
 "nbformat_minor": 4
}
