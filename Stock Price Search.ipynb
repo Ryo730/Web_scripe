{
 "cells": [
  {
   "cell_type": "markdown",
   "metadata": {},
   "source": [
    "https://qiita.com/Azunyan1111/items/9b3d16428d2bcc7c9406"
   ]
  },
  {
   "cell_type": "code",
   "execution_count": 1,
   "metadata": {},
   "outputs": [],
   "source": [
    "import urllib.request,urllib.error\n",
    "from bs4 import BeautifulSoup"
   ]
  },
  {
   "cell_type": "code",
   "execution_count": 2,
   "metadata": {},
   "outputs": [],
   "source": [
    "url=\"http://www.nikkei.com/markets/kabu/\""
   ]
  },
  {
   "cell_type": "code",
   "execution_count": 3,
   "metadata": {},
   "outputs": [],
   "source": [
    "html=urllib.request.urlopen(url)"
   ]
  },
  {
   "cell_type": "code",
   "execution_count": 4,
   "metadata": {},
   "outputs": [],
   "source": [
    "soup=BeautifulSoup(html)"
   ]
  },
  {
   "cell_type": "code",
   "execution_count": 5,
   "metadata": {},
   "outputs": [
    {
     "name": "stdout",
     "output_type": "stream",
     "text": [
      "<title>株式: 日経電子版</title>\n"
     ]
    }
   ],
   "source": [
    "print(soup.title)"
   ]
  },
  {
   "cell_type": "code",
   "execution_count": 6,
   "metadata": {},
   "outputs": [],
   "source": [
    "url=\"http://www.nikkei.com/markets/kabu/\""
   ]
  },
  {
   "cell_type": "code",
   "execution_count": 7,
   "metadata": {},
   "outputs": [],
   "source": [
    "html=urllib.request.urlopen(url)"
   ]
  },
  {
   "cell_type": "code",
   "execution_count": 8,
   "metadata": {},
   "outputs": [],
   "source": [
    "soup=BeautifulSoup(html)"
   ]
  },
  {
   "cell_type": "code",
   "execution_count": 9,
   "metadata": {},
   "outputs": [],
   "source": [
    "span=soup.find_all(\"span\")"
   ]
  },
  {
   "cell_type": "code",
   "execution_count": 10,
   "metadata": {},
   "outputs": [],
   "source": [
    "nikkei_heikin=\"\""
   ]
  },
  {
   "cell_type": "code",
   "execution_count": 11,
   "metadata": {},
   "outputs": [
    {
     "name": "stdout",
     "output_type": "stream",
     "text": [
      "19,897.26\n"
     ]
    }
   ],
   "source": [
    "url=\"http://www.nikkei.com/markets/kabu/\"\n",
    "html=urllib.request.urlopen(url)\n",
    "soup=BeautifulSoup(html)\n",
    "span=soup.find_all(\"span\")\n",
    "nikkei_heikin=\"\"\n",
    "\n",
    "for tag in span:\n",
    "     # get関数では配列で帰ってくる。そのため配列の関数pop(0)により、配列の一番最初を摘出する\n",
    "        # <span class=\"hoge\" class=\"foo\">  →   [\"hoge\",\"foo\"]  →   hoge\n",
    "    try:\n",
    "        string_=tag.get(\"class\").pop(0)#2個あると処理が滞る？？\n",
    "        \n",
    "        if string_ in \"mkc-stock_prices\":\n",
    "            nikkei_heikin=tag.string\n",
    "            \n",
    "            break\n",
    "    except:\n",
    "        pass\n",
    "print(nikkei_heikin)"
   ]
  },
  {
   "cell_type": "code",
   "execution_count": null,
   "metadata": {},
   "outputs": [],
   "source": [
    "import urllib.request,urllib.error\n",
    "from bs4 import BeautifulSoup as bs4\n",
    "from datetime import datetime\n",
    "import csv\n",
    "import time\n",
    "\n",
    "time_flag=True\n",
    "\n",
    "while True:     #永遠ループ構造\n",
    "    if datetime.now().minute!=29:\n",
    "        time.sleep(58)\n",
    "        continue\n",
    "    f=open('nikkei_heikin.csv','a')#二つ目の引数aは開き方のモード指定（詳しくはhttps://dot-blog.jp/news/python-open-function/）\n",
    "    writer=csv.writer(f,lineterminator='\\n')#改行コードをLFに設定した\n",
    "    \n",
    "    while datetime.now().second!=59:\n",
    "        \n",
    "        time.sleep(1)\n",
    "    time.sleep(1)\n",
    "    \n",
    "    \n",
    "    csv_list=[]\n",
    "    \n",
    "    time_=datetime.now().strftime(\"%Y/%m/%d %H:%M:%S\")#現在時刻を年，月，日，時，分，秒で取得する\n",
    "    csv_list.append(time_)\n",
    "    \n",
    "    url=\"http://www.nikkei.com/markets/kabu/\"\n",
    "\n",
    "    html=urllib.request.urlopen(url)\n",
    "    soup=bs4(html)\n",
    "    span=soup.find_all(\"span\")\n",
    "    nikkei_heikin=\"\"\n",
    "    \n",
    "    for tag in span:\n",
    "        try:\n",
    "            string_=tag.get(\"class\").pop(0)\n",
    "            \n",
    "            if string_ in \"mkc-stock_prices\":\n",
    "                nikkei_heikin=tag.string\n",
    "                \n",
    "                \n",
    "                break#見つけ次第このfor文を抜けられる\n",
    "        except:\n",
    "                pass\n",
    "    print(time_,nikkei_heikin)\n",
    "    csv_list.append(nikkei_heikin)\n",
    "    writer.writerow(csv_list)\n",
    "    f.close()"
   ]
  },
  {
   "cell_type": "code",
   "execution_count": null,
   "metadata": {},
   "outputs": [],
   "source": []
  }
 ],
 "metadata": {
  "kernelspec": {
   "display_name": "Python 3",
   "language": "python",
   "name": "python3"
  },
  "language_info": {
   "codemirror_mode": {
    "name": "ipython",
    "version": 3
   },
   "file_extension": ".py",
   "mimetype": "text/x-python",
   "name": "python",
   "nbconvert_exporter": "python",
   "pygments_lexer": "ipython3",
   "version": "3.7.6"
  }
 },
 "nbformat": 4,
 "nbformat_minor": 4
}
